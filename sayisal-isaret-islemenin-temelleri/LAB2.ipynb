{
 "cells": [
  {
   "cell_type": "markdown",
   "metadata": {},
   "source": [
    "# Ön Hazırlık LAB-2"
   ]
  },
  {
   "cell_type": "markdown",
   "metadata": {},
   "source": [
    "## Ad Soyad: Selin Ünlü\n",
    "## Öğrenci No: 161024016"
   ]
  },
  {
   "cell_type": "markdown",
   "metadata": {},
   "source": [
    "###### 2.1.1 Hazır Komut Kullanmadan Çıkış İşaretini Hesaplama"
   ]
  },
  {
   "cell_type": "code",
   "execution_count": 1,
   "metadata": {},
   "outputs": [
    {
     "name": "stdout",
     "output_type": "stream",
     "text": [
      "[0, 1.0, 0.5, -2.25, 1.125]\n"
     ]
    }
   ],
   "source": [
    "x = [0, 1, -1, 0, 0]\n",
    "y = [0]\n",
    "\n",
    "for i in range(1, len(x)):\n",
    "    y.append(-0.5*y[i-1] + x[i] + 2*x[i-1])\n",
    "\n",
    "print(y)"
   ]
  },
  {
   "cell_type": "code",
   "execution_count": 2,
   "metadata": {},
   "outputs": [
    {
     "name": "stdout",
     "output_type": "stream",
     "text": [
      "[ 0.     1.     0.5   -2.25   1.125]\n"
     ]
    }
   ],
   "source": [
    "import numpy as np\n",
    "\n",
    "x = np.array([0, 1, -1, 0, 0], dtype = float)\n",
    "y = np.array([0, 0, 0, 0, 0], dtype = float)\n",
    "\n",
    "for i in range(1, len(x)):\n",
    "    y[i] = -0.5*y[i-1] + x[i] + 2*x[i-1]\n",
    "    \n",
    "print(y)"
   ]
  },
  {
   "cell_type": "markdown",
   "metadata": {},
   "source": [
    "###### 2.1.2 Hazır Komut Kullanarak Çıkış İşaretini Hesaplama"
   ]
  },
  {
   "cell_type": "code",
   "execution_count": 3,
   "metadata": {},
   "outputs": [
    {
     "name": "stdout",
     "output_type": "stream",
     "text": [
      "[ 0.     1.     0.5   -2.25   1.125]\n"
     ]
    }
   ],
   "source": [
    "from scipy import signal\n",
    "\n",
    "x = np.array([0, 1, -1, 0, 0], dtype = float)\n",
    "\n",
    "b = [1, 2]\n",
    "a = [1, 0.5]\n",
    "\n",
    "y = signal.lfilter(b, a, x)\n",
    "\n",
    "print(y)"
   ]
  },
  {
   "cell_type": "code",
   "execution_count": 4,
   "metadata": {},
   "outputs": [
    {
     "data": {
      "text/plain": [
       "Text(0.5, 0, 'n')"
      ]
     },
     "execution_count": 4,
     "metadata": {},
     "output_type": "execute_result"
    }
   ],
   "source": [
    "from matplotlib import pyplot as plt\n",
    "\n",
    "n = np.arange(-1, 4)\n",
    "\n",
    "plt.stem(n, y, use_line_collection = True)\n",
    "plt.title('y[n]')\n",
    "plt.xlabel('n')"
   ]
  },
  {
   "cell_type": "markdown",
   "metadata": {},
   "source": [
    "###### 2.2.1 Hazır Komut Kullanmadan Konvolusyon Hesaplama"
   ]
  },
  {
   "cell_type": "code",
   "execution_count": 5,
   "metadata": {},
   "outputs": [
    {
     "name": "stdout",
     "output_type": "stream",
     "text": [
      "[ 1.  5.  5. -3.]\n"
     ]
    }
   ],
   "source": [
    "import numpy as np\n",
    "\n",
    "h = np.array([1, 2, -1], dtype = float) \n",
    "x = np.array([1,3], dtype = float)\n",
    "\n",
    "M = len(h)\n",
    "N = len(x)\n",
    "L = M + N - 1\n",
    "\n",
    "y = np.zeros([L])\n",
    "\n",
    "for n in range(L):\n",
    "    y[n] = 0\n",
    "    for k in range(N):\n",
    "        if n-k<0 or n-k>=M:\n",
    "            h_n_k = 0\n",
    "        else:\n",
    "            h_n_k = h[n-k]\n",
    "        y[n] = y[n] + x[k]*h_n_k\n",
    "\n",
    "print(y)"
   ]
  },
  {
   "cell_type": "markdown",
   "metadata": {},
   "source": [
    "###### 2.2.2 Hazır Komut Kullanarak Konvolusyon Hesaplama"
   ]
  },
  {
   "cell_type": "code",
   "execution_count": 6,
   "metadata": {},
   "outputs": [
    {
     "name": "stdout",
     "output_type": "stream",
     "text": [
      "[ 1.  5.  5. -3.]\n",
      "[ 1.  5.  5. -3.]\n"
     ]
    }
   ],
   "source": [
    "import numpy as np\n",
    "from scipy import signal\n",
    "\n",
    "h = np.array([1, 2, -1], dtype = float)\n",
    "x = np.array([1, 3], dtype = float)\n",
    "\n",
    "print(np.convolve(x, h))\n",
    "print(signal.convolve(x, h))"
   ]
  },
  {
   "cell_type": "markdown",
   "metadata": {},
   "source": [
    "###### 2.2.3 İki İşaretin Konvolusyonunun Grafiğini Çizdirmek"
   ]
  },
  {
   "cell_type": "code",
   "execution_count": 7,
   "metadata": {},
   "outputs": [
    {
     "name": "stdout",
     "output_type": "stream",
     "text": [
      "[ 1  0  2 -1  3  0  6 -3]\n"
     ]
    }
   ],
   "source": [
    "x = np.array([1, 0, 2, -1])\n",
    "h = np.array([1, 0, 0, 0, 3])\n",
    "\n",
    "y = np.convolve(x,h)\n",
    "\n",
    "print(y)"
   ]
  },
  {
   "cell_type": "code",
   "execution_count": 8,
   "metadata": {},
   "outputs": [
    {
     "data": {
      "text/plain": [
       "Text(0.5, 1.0, 'y[n]')"
      ]
     },
     "execution_count": 8,
     "metadata": {},
     "output_type": "execute_result"
    },
    {
     "data": {
      "image/png": "[encoded data removed]",
      "text/plain": [
       "<Figure size 432x288 with 1 Axes>"
      ]
     },
     "metadata": {
      "needs_background": "light"
     },
     "output_type": "display_data"
    }
   ],
   "source": [
    "n = np.arange(-3, 5)\n",
    "plt.stem(n, y, use_line_collection = True)\n",
    "plt. title('y[n]')"
   ]
  },
  {
   "cell_type": "markdown",
   "metadata": {},
   "source": [
    "# SORU-1"
   ]
  },
  {
   "cell_type": "markdown",
   "metadata": {},
   "source": [
    "### a)"
   ]
  },
  {
   "cell_type": "markdown",
   "metadata": {},
   "source": [
    "##### DZD bir sistemin girişine bir dürtü(𝛿[n] ) uygulanırsa sistemin çıkışında dürtü cevabı (h[n]) elde edilir.\n",
    "##### x[n] = 𝛿[n] \n",
    "##### h[h] = y[n] = 𝛿[n] - 𝛿[n-1]"
   ]
  },
  {
   "cell_type": "markdown",
   "metadata": {},
   "source": [
    "### b)"
   ]
  },
  {
   "cell_type": "markdown",
   "metadata": {},
   "source": [
    "##### DZD bir sistemin kararlı(stable) olması için k=-∞'dan +∞'a ∑ |h[k]| < ∞ olması yani mutlak toplanabilirlik şartı aranır. Bu şartı sağlıyorsa sistem karalıdır.\n",
    "\n",
    "##### 𝛿[n], sadece n=0'da 1'e eşittir, diğer noktalarda 0'a eşittir. Yani; k=-∞'dan +∞'a ∑ |h[k]| < ∞ (mutlak toplanabilir) olması sebeiyle sistem kararlıdır."
   ]
  },
  {
   "cell_type": "markdown",
   "metadata": {},
   "source": [
    "### c)"
   ]
  },
  {
   "cell_type": "code",
   "execution_count": 9,
   "metadata": {},
   "outputs": [
    {
     "data": {
      "image/png": "[encoded data removed]",
      "text/plain": [
       "<Figure size 432x288 with 1 Axes>"
      ]
     },
     "metadata": {
      "needs_background": "light"
     },
     "output_type": "display_data"
    }
   ],
   "source": [
    "import numpy as np\n",
    "from matplotlib import pyplot as plt\n",
    "from scipy import signal\n",
    "\n",
    "n = np.arange(0,20,1)\n",
    "x = np.cos(np.pi*n/5)\n",
    "\n",
    "plt.stem(n,x,use_line_collection = True)\n",
    "plt.show()"
   ]
  },
  {
   "cell_type": "code",
   "execution_count": 10,
   "metadata": {},
   "outputs": [
    {
     "name": "stdout",
     "output_type": "stream",
     "text": [
      "[ 1.         -0.19098301 -0.5        -0.61803399 -0.5        -0.19098301\n",
      "  0.19098301  0.5         0.61803399  0.5         0.19098301 -0.19098301\n",
      " -0.5        -0.61803399 -0.5        -0.19098301  0.19098301  0.5\n",
      "  0.61803399  0.5       ]\n"
     ]
    }
   ],
   "source": [
    "h = np.array([1, -1], dtype = float)\n",
    "\n",
    "print(np.convolve(x, h, 'same'))"
   ]
  },
  {
   "cell_type": "code",
   "execution_count": 11,
   "metadata": {},
   "outputs": [
    {
     "data": {
      "image/png": "[encoded data removed]",
      "text/plain": [
       "<Figure size 432x288 with 1 Axes>"
      ]
     },
     "metadata": {
      "needs_background": "light"
     },
     "output_type": "display_data"
    }
   ],
   "source": [
    "y_convolve = signal.convolve(h,x)\n",
    "\n",
    "plt.stem(y_convolve, use_line_collection = True)\n",
    "plt. title('y[n]')\n",
    "plt.show()"
   ]
  },
  {
   "cell_type": "code",
   "execution_count": 12,
   "metadata": {},
   "outputs": [
    {
     "name": "stdout",
     "output_type": "stream",
     "text": [
      "[ 1.         -0.19098301 -0.5        -0.61803399 -0.5        -0.19098301\n",
      "  0.19098301  0.5         0.61803399  0.5         0.19098301 -0.19098301\n",
      " -0.5        -0.61803399 -0.5        -0.19098301  0.19098301  0.5\n",
      "  0.61803399  0.5       ]\n"
     ]
    }
   ],
   "source": [
    "a = [1]\n",
    "b = [1, -1]\n",
    "\n",
    "y = signal.lfilter(b, a, x)\n",
    "\n",
    "print(y)"
   ]
  },
  {
   "cell_type": "code",
   "execution_count": 13,
   "metadata": {},
   "outputs": [
    {
     "data": {
      "image/png": "[encoded data removed]",
      "text/plain": [
       "<Figure size 432x288 with 1 Axes>"
      ]
     },
     "metadata": {
      "needs_background": "light"
     },
     "output_type": "display_data"
    }
   ],
   "source": [
    "plt.stem(n, y, use_line_collection = True)\n",
    "plt. title('y[n]')\n",
    "plt.show()"
   ]
  },
  {
   "cell_type": "markdown",
   "metadata": {},
   "source": [
    "# SORU-2"
   ]
  },
  {
   "cell_type": "markdown",
   "metadata": {},
   "source": [
    "### a)"
   ]
  },
  {
   "cell_type": "code",
   "execution_count": 14,
   "metadata": {},
   "outputs": [],
   "source": [
    "import numpy as np\n",
    "from matplotlib import pyplot as plt\n",
    "from scipy import signal\n",
    "\n",
    "x = signal.unit_impulse(100)"
   ]
  },
  {
   "cell_type": "code",
   "execution_count": 15,
   "metadata": {},
   "outputs": [
    {
     "data": {
      "image/png": "[encoded data removed]",
      "text/plain": [
       "<Figure size 432x288 with 1 Axes>"
      ]
     },
     "metadata": {
      "needs_background": "light"
     },
     "output_type": "display_data"
    }
   ],
   "source": [
    "a1 = [1, -0.5]\n",
    "b1 = [1]\n",
    "\n",
    "y1 = signal.lfilter(b1, a1, x)\n",
    "\n",
    "plt.stem(y1, use_line_collection = True)\n",
    "plt. title('y1[n]')\n",
    "plt.show()"
   ]
  },
  {
   "cell_type": "code",
   "execution_count": 16,
   "metadata": {},
   "outputs": [
    {
     "data": {
      "image/png": "[encoded data removed]",
      "text/plain": [
       "<Figure size 432x288 with 1 Axes>"
      ]
     },
     "metadata": {
      "needs_background": "light"
     },
     "output_type": "display_data"
    }
   ],
   "source": [
    "a2 = [1, -2]\n",
    "b2 = [1]\n",
    "\n",
    "y2 = signal.lfilter(b2, a2, x)\n",
    "\n",
    "plt.stem(y2, use_line_collection = True)\n",
    "plt. title('y2[n]')\n",
    "plt.show()"
   ]
  },
  {
   "cell_type": "markdown",
   "metadata": {},
   "source": [
    "### b)"
   ]
  },
  {
   "cell_type": "markdown",
   "metadata": {},
   "source": [
    "##### Sistem-1'de n değerleri sonsuza gittikçe y[n]'in genlik değerleri 0(sıfır)'a yaklaşmaktadır. Yani sistem mutlak toplanabilir (k=-∞'dan +∞'a ∑ |h[k]| < ∞). Bu sebeple sistem kararlıdır."
   ]
  },
  {
   "cell_type": "markdown",
   "metadata": {},
   "source": [
    "##### Sistem-2'de n değerleri sonsuza gittikçe y[n]'in genlik değerleri sonsuza yaklaşmaktadır. Yani sistem mutlak toplanabilir değildir. Bu sebeple sistem kararsızdır.\n",
    "##### ( DZD bir sistemde h[h] = y[n] )"
   ]
  },
  {
   "cell_type": "markdown",
   "metadata": {},
   "source": [
    "### c)"
   ]
  },
  {
   "cell_type": "markdown",
   "metadata": {},
   "source": [
    "##### DZD bir sistemin nedensel(casual) olması için n<0 değerleri için h[n] = 0 olması şartı aranır. Bu şartı sağlıyorsa sistem nedensel(casual)dir.\n"
   ]
  },
  {
   "cell_type": "markdown",
   "metadata": {},
   "source": [
    "##### Elde edilen grafikler n<0 değerleri için sonuç göstermediği için bu şartı sağlayıp sağlamadığı gözlenememektedir. Bu sebeple sistemlerin nedenselliği ile ilgili yorum yapamayız."
   ]
  }
 ],
 "metadata": {
  "kernelspec": {
   "display_name": "Python 3",
   "language": "python",
   "name": "python3"
  },
  "language_info": {
   "codemirror_mode": {
    "name": "ipython",
    "version": 3
   },
   "file_extension": ".py",
   "mimetype": "text/x-python",
   "name": "python",
   "nbconvert_exporter": "python",
   "pygments_lexer": "ipython3",
   "version": "3.7.4"
  }
 },
 "nbformat": 4,
 "nbformat_minor": 2
}
