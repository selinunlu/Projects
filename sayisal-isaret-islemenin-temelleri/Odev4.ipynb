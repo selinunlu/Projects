{
 "cells": [
  {
   "cell_type": "markdown",
   "metadata": {},
   "source": [
    "### Adı Soyadı : Selin Ünlü"
   ]
  },
  {
   "cell_type": "markdown",
   "metadata": {},
   "source": [
    "### Öğrenci No : 161024016"
   ]
  },
  {
   "cell_type": "markdown",
   "metadata": {},
   "source": [
    "### ELM367 Ödev#4"
   ]
  },
  {
   "cell_type": "markdown",
   "metadata": {},
   "source": [
    "# SORU 6:"
   ]
  },
  {
   "cell_type": "code",
   "execution_count": 1,
   "metadata": {},
   "outputs": [],
   "source": [
    "import numpy as np \n",
    "import matplotlib.pyplot as plt \n",
    "%matplotlib notebook"
   ]
  },
  {
   "cell_type": "code",
   "execution_count": 2,
   "metadata": {},
   "outputs": [],
   "source": [
    "j = np.complex(0, 1)"
   ]
  },
  {
   "cell_type": "code",
   "execution_count": 3,
   "metadata": {},
   "outputs": [
    {
     "name": "stdout",
     "output_type": "stream",
     "text": [
      "[ 0. -2.  4. -2.  0.]\n"
     ]
    }
   ],
   "source": [
    "x = np.array([0, 1, 0, 0, 0], dtype = float)\n",
    "y = np.array([0, 0, 0, 0, 0], dtype = float)\n",
    "\n",
    "for i in range(1, len(x)):\n",
    "    y[i] = -2*x[i] + 4*x[i-1] - 2*x[i-2]\n",
    "    \n",
    "print(y)"
   ]
  },
  {
   "cell_type": "markdown",
   "metadata": {},
   "source": [
    "# SORU 7:"
   ]
  },
  {
   "cell_type": "code",
   "execution_count": 4,
   "metadata": {},
   "outputs": [],
   "source": [
    "w = np.linspace(-np.pi, np.pi, dtype=float)\n",
    "f = np.linspace(-np.pi, np.pi, dtype=float)\n",
    "\n",
    "H = (1 + np.exp(-j*2*w)) / (1 - 0.8*np.exp(-j*w))"
   ]
  },
  {
   "cell_type": "code",
   "execution_count": 5,
   "metadata": {},
   "outputs": [
    {
     "data": {
      "image/png": "[encoded data removed]",
      "text/plain": [
       "<Figure size 432x288 with 1 Axes>"
      ]
     },
     "metadata": {
      "needs_background": "light"
     },
     "output_type": "display_data"
    }
   ],
   "source": [
    "plt.plot(w, np.abs(H))\n",
    "plt.title('Magnitude of H(e^jω)')\n",
    "plt.xlabel('w')\n",
    "plt.show()"
   ]
  },
  {
   "cell_type": "code",
   "execution_count": 6,
   "metadata": {},
   "outputs": [
    {
     "name": "stdout",
     "output_type": "stream",
     "text": [
      "[40.+0.j 40.+0.j 40.+0.j 40.+0.j 40.+0.j 40.+0.j 40.+0.j 40.+0.j 40.+0.j\n",
      " 40.+0.j]\n"
     ]
    }
   ],
   "source": [
    "n = np.arange(-5,5)\n",
    "H_magnitude = abs((1 + np.exp(-j*2*(np.pi/2))) / (1 - 0.8*np.exp(-j*(np.pi/2))))\n",
    "H_phase = np.angle((1 + np.exp(-j*2*(np.pi/2))) / (1 - 0.8*np.exp(-j*(np.pi/2))))\n",
    "\n",
    "y = 4*(1 + np.exp(-j*2*0)) / (1 - 0.8*np.exp(-j*0))  +  2*H_magnitude*np.cos((np.pi/2)*n + H_phase)\n",
    "\n",
    "print(y)"
   ]
  },
  {
   "cell_type": "markdown",
   "metadata": {},
   "source": [
    "### w = pi/2 olursa y[n] sabit sayı olur.\n",
    "### y[n] = A = 40"
   ]
  }
 ],
 "metadata": {
  "kernelspec": {
   "display_name": "Python 3",
   "language": "python",
   "name": "python3"
  },
  "language_info": {
   "codemirror_mode": {
    "name": "ipython",
    "version": 3
   },
   "file_extension": ".py",
   "mimetype": "text/x-python",
   "name": "python",
   "nbconvert_exporter": "python",
   "pygments_lexer": "ipython3",
   "version": "3.7.4"
  }
 },
 "nbformat": 4,
 "nbformat_minor": 2
}
